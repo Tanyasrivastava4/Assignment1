{
 "cells": [
  {
   "cell_type": "code",
   "execution_count": null,
   "id": "8a6dc2aa-ecdb-4d90-810d-5ef986eab11a",
   "metadata": {},
   "outputs": [],
   "source": [
    "** ASSIGNMENT 1 **"
   ]
  },
  {
   "cell_type": "code",
   "execution_count": null,
   "id": "c0f457c6-8121-49a9-9728-c32298255b51",
   "metadata": {},
   "outputs": [],
   "source": [
    "Qn.1 Who developed python programming language?\n",
    "Python was created by Guido van Rossum, and first released on February 20, 1991."
   ]
  },
  {
   "cell_type": "code",
   "execution_count": null,
   "id": "f89ef887-2259-46b8-92f8-f6233e1d6aea",
   "metadata": {},
   "outputs": [],
   "source": [
    "Qn.2 Which type of programming does python support?\n",
    " Python is a multi-paradigm programming language.\n",
    "Object-oriented programming and structured programming are fully supported."
   ]
  },
  {
   "cell_type": "code",
   "execution_count": null,
   "id": "a1eb2ea2-19df-48f3-8844-229d6d08306f",
   "metadata": {},
   "outputs": [],
   "source": [
    "Qn.3 Is python a case sensitive when dealing with identifiers?\n",
    " Yes, Python is a case-sensitive language.\n",
    "It treats uppercase and lowercase characters differently. This applies to identifiers too."
   ]
  },
  {
   "cell_type": "code",
   "execution_count": null,
   "id": "8c186674-4535-4101-93c7-bbbc61e14c79",
   "metadata": {},
   "outputs": [],
   "source": [
    " Qn.4 What is the correcct extension of the python file?\n",
    "    The extensions for Python files are - . py"
   ]
  },
  {
   "cell_type": "code",
   "execution_count": null,
   "id": "a23ddfa2-3aa2-421b-8206-ef061827adc4",
   "metadata": {},
   "outputs": [],
   "source": [
    "Qn.5 Is python code complied or interpreted?\n",
    "  Python is an interpreted language."
   ]
  },
  {
   "cell_type": "code",
   "execution_count": null,
   "id": "eb68b1fd-0b80-4d94-be7e-594506e7bc33",
   "metadata": {},
   "outputs": [],
   "source": [
    "QN.6 Name a few blocks of code used to define in python language?\n",
    "A Python program is constructed from code blocks. \n",
    "A block is a piece of Python program text that is executed as a unit. \n",
    "The following are blocks: a module, a function body, and a class definition."
   ]
  },
  {
   "cell_type": "code",
   "execution_count": null,
   "id": "dc086d59-f8f8-4364-b6aa-0f04258772ba",
   "metadata": {},
   "outputs": [],
   "source": [
    "Qn.7 State a character used to give single-line comments in python?\n",
    "We can write a single-line comment by adding a single #\n",
    " character before any statement or line of code."
   ]
  },
  {
   "cell_type": "code",
   "execution_count": null,
   "id": "49488253-92dc-40a9-84b9-486563b34a87",
   "metadata": {},
   "outputs": [],
   "source": [
    "Qn.8 Mention function which can help us to find the version of python that we are currently working out?\n",
    " The function sys. version can help us to find the version of python that we are currently working on."
   ]
  },
  {
   "cell_type": "code",
   "execution_count": null,
   "id": "d8b06ac2-f830-4cef-a10f-2385a5d33ad4",
   "metadata": {},
   "outputs": [],
   "source": [
    "Qn.9 Python supports the creation of anontmous functions at runtime,using a construct caled...?\n",
    " Python supports the creation of anonymous functions (i.e. functions that are not bound to a name) at runtime, using a construct called lambda."
   ]
  },
  {
   "cell_type": "code",
   "execution_count": null,
   "id": "2bb5c8ba-a30e-4f46-8ff8-a3f028a62924",
   "metadata": {},
   "outputs": [],
   "source": [
    "Qn.10 What does pip stand for python?\n",
    " PIP stands for Preferred Installer Program, helps you to install libraries and dependencies,\n",
    "that  doesn’t come with the standard package of Python.\n",
    "So, PIP is essentially a package manager for Python."
   ]
  },
  {
   "cell_type": "code",
   "execution_count": null,
   "id": "f14aeded-5c01-4035-af4e-ff6cf011d71d",
   "metadata": {},
   "outputs": [],
   "source": [
    "Qn.11 Mention a few built-in functions in python?\n",
    "\n",
    " print( ) function. The print() function prints the specified message to the screen or another standard output device. \n",
    "type( ) function. \n",
    "input( ) function. \n",
    "abs( ) function. \n",
    "pow( ) function. \n",
    "dir( ) function. \n",
    "sorted( ) function.\n",
    "max( ) function."
   ]
  },
  {
   "cell_type": "code",
   "execution_count": null,
   "id": "c51289b5-ca8c-4193-9560-8e76dccfe50c",
   "metadata": {},
   "outputs": [],
   "source": [
    "Qn.12 What is the maximum possible length of a identifier in python?\n",
    " An identifier can have a maximum length of 79 characters in Python."
   ]
  },
  {
   "cell_type": "code",
   "execution_count": null,
   "id": "ac140881-fe5e-4794-b1cd-87dd35b386f7",
   "metadata": {},
   "outputs": [],
   "source": [
    "Qn.13 What are the benefits of using python?\n",
    ". Simple to use and understand.\n",
    ". Free and open source.\n",
    ". Productivity has increased.\n",
    ". Interpreted language.\n",
    ". Extensive library.\n",
    ". Dynamically typed.\n",
    ". Supportive community."
   ]
  },
  {
   "cell_type": "code",
   "execution_count": null,
   "id": "b2f65a27-a212-4dd5-9387-c6acb06410b3",
   "metadata": {},
   "outputs": [],
   "source": [
    "Qn.14 How is memory managed in python?\n",
    " Python has a private heap that stores our program’s objects and data structures. \n",
    "    Python memory manager takes care of the bulk of the memory management work and allows us to concentrate on our code."
   ]
  },
  {
   "cell_type": "code",
   "execution_count": null,
   "id": "4bee703e-8e58-48bb-b15b-b7330b43ed7c",
   "metadata": {},
   "outputs": [],
   "source": [
    "Qn.15 How to install python on windows and set path variables?\n",
    "1. First, we must find the directory where we installed Python.\n",
    " A typical installation would have the following path, C:\\Users\\MyUserName\\AppData\\Local\\Programs\\Python\\Python310\n",
    "\n",
    "2. Now, we will need to add this to the PATH variable, we right click on \"This PC\" and go to \"Properties\".\n",
    "\n",
    "3. Then, we click on the \"Advanced system settings\" in the menu on the left.going\n",
    "\n",
    "4. In the bottom right, we can see a button labeled \"Environment Variables\". We will click on it to open another window to edit these variables.\n",
    "\n",
    "5. Now, we select the \"Path variable\" in the \"System variables\" section and click \"Edit\".\n",
    "The next screen will show all the directories currently part of the PATH variable.\n",
    "\n",
    "6. Another window opens up where we can see all the paths for the currently configured system variables. \n",
    "To add a new path for our Python program, we will click on the \"New\" button on the right side and paste the path in Step 1\n",
    "\n",
    "7. We have successfully added the path for our Python program to our system's environment variables.\n",
    "The best practice is to restart the system afterward for the change to occur.\n",
    "\n",
    "8. Now, we can verify if the PATH variable was configured correctly by opening up the terminal and entering the command python --version."
   ]
  },
  {
   "cell_type": "code",
   "execution_count": null,
   "id": "3771e025-5267-4dae-86a4-579d10679925",
   "metadata": {},
   "outputs": [],
   "source": [
    "Qn.16 Is indentattion is required in python?\n",
    "Indentation is mandatory in python to define the blocks of statements.\n",
    "It is preferred to use whitespaces instead of tabs to indent in python.\n",
    "Python uses four spaces as default indentation spaces.\n",
    " If we will avoid indebtation then, the overall code will not run and the interpreter will simply return an error function."
   ]
  },
  {
   "cell_type": "code",
   "execution_count": null,
   "id": "25f7b204-db91-43b6-90c2-8a7a9a906e3f",
   "metadata": {},
   "outputs": [],
   "source": [
    "** ASSIGNMENT 2 **"
   ]
  },
  {
   "cell_type": "code",
   "execution_count": null,
   "id": "2593dd04-1c87-4812-91b0-aec0ba4207a8",
   "metadata": {},
   "outputs": [],
   "source": [
    "Qn.1 \n",
    "marks=int(input(\"Enter your marks\"))\n",
    "if marks>90:\n",
    "    print(\"Grade A\")\n",
    "elif marks >80 and marks <=90:\n",
    "    print(\"Grade B\")\n",
    "elif marks >= 60 and marks <=80:\n",
    "    print(\"Grade C\")\n",
    "else:\n",
    "    print(\"Grade D\")"
   ]
  },
  {
   "cell_type": "code",
   "execution_count": null,
   "id": "557942b2-5f63-4a7b-a437-7ad5b4a7240b",
   "metadata": {},
   "outputs": [],
   "source": [
    "Qn.2 \n",
    "price=int(input(\"Enter the cost price\"))\n",
    "if price>100000:\n",
    "    print(\"Tax will be 15%\")\n",
    "elif price>50000 and price<= 100000:\n",
    "    print(\"Tax will be 10%\")\n",
    "else:\n",
    "    print(\"Tax will be 5%\")"
   ]
  },
  {
   "cell_type": "code",
   "execution_count": null,
   "id": "47f83ae7-753c-4d0d-b768-0bd6a789f244",
   "metadata": {},
   "outputs": [],
   "source": [
    "Qn.3\n",
    "city=input(\"Enter your city name\")\n",
    "if city=='Delhi':\n",
    "    print(\"Red fort\")\n",
    "elif city=='Agra':\n",
    "    print(\"Taj Mahal\")\n",
    "elif city=='Jaipur':\n",
    "    print(\"Jal Mahal\")"
   ]
  },
  {
   "cell_type": "code",
   "execution_count": null,
   "id": "a586caa8-37a4-4cff-947f-b88946728610",
   "metadata": {},
   "outputs": [],
   "source": [
    "Qn.4\n",
    "count=0\n",
    "num=int(input(\"Enter a number\"))\n",
    "while num<=10:\n",
    "    num=num/3\n",
    "    count=count+1\n",
    "print(\"Total\",count)"
   ]
  },
  {
   "cell_type": "code",
   "execution_count": null,
   "id": "f305215b-8a0e-4fd5-8d30-0df1a3b13b65",
   "metadata": {},
   "outputs": [],
   "source": [
    "Qn.5 Why and when to use while loop in python give a detailed description with example?\n",
    "Python While Loop is used to execute a block of statements repeatedly until a given condition is satisfied. \n",
    "And when the condition becomes false, the line immediately after the loop in the program is executed.\n",
    "\n",
    "Syntax: \n",
    "\n",
    "while expression:\n",
    "    statement(s)\n",
    "    \n",
    "Example:\n",
    "count=0\n",
    "while (count < 5): count += 1; print(\"Hello Geek\")\n",
    "Output\n",
    "Hello Geek\n",
    "Hello Geek\n",
    "Hello Geek\n",
    "Hello Geek\n",
    "Hello Geek"
   ]
  },
  {
   "cell_type": "code",
   "execution_count": null,
   "id": "ff99c646-2e2d-4191-a314-8b112ca28af3",
   "metadata": {},
   "outputs": [],
   "source": [
    "Qn.6 Use nested while loop to print 3 different pattern?\n",
    "i=1\n",
    "while i<=3:\n",
    "    j=1\n",
    "    while j<=i:\n",
    "        print(j,end=\" \")\n",
    "        j=i+1\n",
    "    print(\" \")\n",
    "    i=i+1\n",
    "    "
   ]
  },
  {
   "cell_type": "code",
   "execution_count": null,
   "id": "bdca6451-f17d-4baf-b4a6-698b057e9756",
   "metadata": {},
   "outputs": [],
   "source": [
    "Qn 7. Reverse a while loop and display numbers from 10 to 1?\n",
    "i = 10\n",
    "while i > 0:\n",
    "    print(i)\n",
    "    i = i - 1"
   ]
  }
 ],
 "metadata": {
  "kernelspec": {
   "display_name": "Python 3 (ipykernel)",
   "language": "python",
   "name": "python3"
  },
  "language_info": {
   "codemirror_mode": {
    "name": "ipython",
    "version": 3
   },
   "file_extension": ".py",
   "mimetype": "text/x-python",
   "name": "python",
   "nbconvert_exporter": "python",
   "pygments_lexer": "ipython3",
   "version": "3.10.8"
  }
 },
 "nbformat": 4,
 "nbformat_minor": 5
}
